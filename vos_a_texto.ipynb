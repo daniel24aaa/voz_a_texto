{
 "cells": [
  {
   "attachments": {},
   "cell_type": "markdown",
   "metadata": {},
   "source": [
    "\n",
    "Recuerda instalar esta librería:\n",
    "\n",
    "windows + r -> cmd ->\n"
   ]
  },
  {
   "cell_type": "code",
   "execution_count": 4,
   "metadata": {},
   "outputs": [],
   "source": [
    "#pip install SpeechRecognition"
   ]
  },
  {
   "cell_type": "code",
   "execution_count": 1,
   "metadata": {},
   "outputs": [
    {
     "name": "stdout",
     "output_type": "stream",
     "text": [
      "Di algo...\n",
      "result2:\n",
      "{   'alternative': [   {   'confidence': 0.95247078,\n",
      "                           'transcript': 'Hola Cómo estás Quiero que borres '\n",
      "                                         'estar chivo No te olvides Gracias'},\n",
      "                       {   'transcript': 'Hola Cómo estás Quiero que borres a '\n",
      "                                         'estar chivo No te olvides Gracias'},\n",
      "                       {   'transcript': 'Hola Cómo estás Quiero que borres '\n",
      "                                         'estar chido no te olvides Gracias'},\n",
      "                       {   'transcript': 'Hola Cómo estás Quiero que borres '\n",
      "                                         'estar chivos No te olvides Gracias'},\n",
      "                       {   'transcript': 'Hola cómo estás quiero que abras '\n",
      "                                         'estar chivo No te olvides Gracias'}],\n",
      "    'final': True}\n",
      "Texto reconocido: Hola Cómo estás Quiero que borres estar chivo No te olvides Gracias\n"
     ]
    }
   ],
   "source": [
    "import speech_recognition as sr\n",
    "\n",
    "r = sr.Recognizer()\n",
    "\n",
    "with sr.Microphone() as source:\n",
    "    print(\"Di algo...\")\n",
    "    audio = r.record(source, duration=5)  # Grabar durante 5 segundos\n",
    "\n",
    "try:\n",
    "    text = r.recognize_google(audio, language=\"es\")\n",
    "    print(\"Texto reconocido: \" + text)\n",
    "except sr.UnknownValueError:\n",
    "    print(\"No se pudo reconocer el audio\")\n",
    "except sr.RequestError as e:\n",
    "    print(\"Error al enviar la solicitud al servicio de reconocimiento de voz; {0}\".format(e))"
   ]
  },
  {
   "cell_type": "code",
   "execution_count": 2,
   "metadata": {},
   "outputs": [
    {
     "name": "stdout",
     "output_type": "stream",
     "text": [
      "La variable se ha guardado en el archivo .txt.\n"
     ]
    }
   ],
   "source": [
    "# Nombre del archivo\n",
    "nombre_archivo = \"archivo.txt\"\n",
    "\n",
    "# Guardar la variable en el archivo .txt\n",
    "with open(nombre_archivo, \"w\") as archivo:\n",
    "    archivo.write(text)\n",
    "\n",
    "print(\"La variable se ha guardado en el archivo .txt.\")"
   ]
  }
 ],
 "metadata": {
  "kernelspec": {
   "display_name": "Python 3",
   "language": "python",
   "name": "python3"
  },
  "language_info": {
   "codemirror_mode": {
    "name": "ipython",
    "version": 3
   },
   "file_extension": ".py",
   "mimetype": "text/x-python",
   "name": "python",
   "nbconvert_exporter": "python",
   "pygments_lexer": "ipython3",
   "version": "3.10.0"
  },
  "orig_nbformat": 4
 },
 "nbformat": 4,
 "nbformat_minor": 2
}
